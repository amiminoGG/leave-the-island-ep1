{
 "cells": [
  {
   "cell_type": "markdown",
   "metadata": {},
   "source": [
    "# my-pandas-playground"
   ]
  },
  {
   "cell_type": "code",
   "execution_count": 1,
   "metadata": {
    "collapsed": false
   },
   "outputs": [],
   "source": [
    "import pandas as pd\n",
    "import seaborn as sns\n",
    "# my utility\n",
    "from util import Timer"
   ]
  },
  {
   "cell_type": "markdown",
   "metadata": {},
   "source": [
    "## Basic"
   ]
  },
  {
   "cell_type": "code",
   "execution_count": 2,
   "metadata": {
    "collapsed": false
   },
   "outputs": [
    {
     "name": "stdout",
     "output_type": "stream",
     "text": [
      "(150, 5)\n"
     ]
    }
   ],
   "source": [
    "iris = sns.load_dataset('iris')\n",
    "\n",
    "# Check the size of data\n",
    "\n",
    "print(iris.shape)"
   ]
  },
  {
   "cell_type": "markdown",
   "metadata": {},
   "source": [
    "## Missing Value"
   ]
  },
  {
   "cell_type": "code",
   "execution_count": 3,
   "metadata": {
    "collapsed": false
   },
   "outputs": [
    {
     "name": "stdout",
     "output_type": "stream",
     "text": [
      "    sepal_length sepal_width petal_length petal_width species\n",
      "0          False       False        False       False   False\n",
      "1          False       False        False       False   False\n",
      "2          False       False        False       False   False\n",
      "3          False       False        False       False   False\n",
      "4          False       False        False       False   False\n",
      "5          False       False        False       False   False\n",
      "6          False       False        False       False   False\n",
      "7          False       False        False       False   False\n",
      "8          False       False        False       False   False\n",
      "9          False       False        False       False   False\n",
      "10         False       False        False       False   False\n",
      "11         False       False        False       False   False\n",
      "12         False       False        False       False   False\n",
      "13         False       False        False       False   False\n",
      "14         False       False        False       False   False\n",
      "15         False       False        False       False   False\n",
      "16         False       False        False       False   False\n",
      "17         False       False        False       False   False\n",
      "18         False       False        False       False   False\n",
      "19         False       False        False       False   False\n",
      "20         False       False        False       False   False\n",
      "21         False       False        False       False   False\n",
      "22         False       False        False       False   False\n",
      "23         False       False        False       False   False\n",
      "24         False       False        False       False   False\n",
      "25         False       False        False       False   False\n",
      "26         False       False        False       False   False\n",
      "27         False       False        False       False   False\n",
      "28         False       False        False       False   False\n",
      "29         False       False        False       False   False\n",
      "..           ...         ...          ...         ...     ...\n",
      "120        False       False        False       False   False\n",
      "121        False       False        False       False   False\n",
      "122        False       False        False       False   False\n",
      "123        False       False        False       False   False\n",
      "124        False       False        False       False   False\n",
      "125        False       False        False       False   False\n",
      "126        False       False        False       False   False\n",
      "127        False       False        False       False   False\n",
      "128        False       False        False       False   False\n",
      "129        False       False        False       False   False\n",
      "130        False       False        False       False   False\n",
      "131        False       False        False       False   False\n",
      "132        False       False        False       False   False\n",
      "133        False       False        False       False   False\n",
      "134        False       False        False       False   False\n",
      "135        False       False        False       False   False\n",
      "136        False       False        False       False   False\n",
      "137        False       False        False       False   False\n",
      "138        False       False        False       False   False\n",
      "139        False       False        False       False   False\n",
      "140        False       False        False       False   False\n",
      "141        False       False        False       False   False\n",
      "142        False       False        False       False   False\n",
      "143        False       False        False       False   False\n",
      "144        False       False        False       False   False\n",
      "145        False       False        False       False   False\n",
      "146        False       False        False       False   False\n",
      "147        False       False        False       False   False\n",
      "148        False       False        False       False   False\n",
      "149        False       False        False       False   False\n",
      "\n",
      "[150 rows x 5 columns]\n"
     ]
    }
   ],
   "source": [
    "iris = sns.load_dataset('iris')\n",
    "\n",
    "print(iris.isnull())"
   ]
  },
  {
   "cell_type": "code",
   "execution_count": 4,
   "metadata": {
    "collapsed": false
   },
   "outputs": [
    {
     "name": "stdout",
     "output_type": "stream",
     "text": [
      "sepal_length:False\n",
      "sepal_width:False\n",
      "petal_length:False\n",
      "petal_width:False\n",
      "species:False\n",
      "0.011 s\n"
     ]
    }
   ],
   "source": [
    "with Timer():\n",
    "    for c in iris:\n",
    "        print(c + \":\" + str(iris[c].isnull().values.any()))"
   ]
  }
 ],
 "metadata": {
  "kernelspec": {
   "display_name": "Python 2",
   "language": "python",
   "name": "python2"
  },
  "language_info": {
   "codemirror_mode": {
    "name": "ipython",
    "version": 2
   },
   "file_extension": ".py",
   "mimetype": "text/x-python",
   "name": "python",
   "nbconvert_exporter": "python",
   "pygments_lexer": "ipython2",
   "version": "2.7.12"
  }
 },
 "nbformat": 4,
 "nbformat_minor": 2
}
