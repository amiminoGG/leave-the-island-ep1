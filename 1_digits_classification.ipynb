{
 "cells": [
  {
   "cell_type": "markdown",
   "metadata": {},
   "source": [
    "# Tutorial\n",
    "* http://scikit-learn.org/stable/auto_examples/classification/plot_digits_classification.html\n",
    "* https://machine-learning-python.kspax.io/Classification/ex1_Recognizing_hand-written_digits.html"
   ]
  },
  {
   "cell_type": "code",
   "execution_count": 37,
   "metadata": {
    "collapsed": true
   },
   "outputs": [],
   "source": [
    "import matplotlib.pyplot as plt\n",
    "from sklearn import datasets, svm, metrics\n",
    "\n",
    "# The digits dataset\n",
    "digits = datasets.load_digits()"
   ]
  },
  {
   "cell_type": "markdown",
   "metadata": {},
   "source": [
    "* scikit-learn dataset documents: http://scikit-learn.org/stable/datasets/\n",
    "* scikit-learn dataset API: http://scikit-learn.org/stable/modules/classes.html#module-sklearn.datasets"
   ]
  },
  {
   "cell_type": "code",
   "execution_count": 38,
   "metadata": {
    "collapsed": false
   },
   "outputs": [
    {
     "name": "stdout",
     "output_type": "stream",
     "text": [
      "('images', (1797, 8, 8))\n",
      "('data', (1797, 64))\n",
      "('target_names', (10,))\n",
      "DESCR\n",
      "('target', (1797,))\n"
     ]
    }
   ],
   "source": [
    "for key,value in digits.items() :\n",
    "    try:\n",
    "        print (key,value.shape)\n",
    "    except:\n",
    "        print (key)"
   ]
  },
  {
   "cell_type": "code",
   "execution_count": 39,
   "metadata": {
    "collapsed": false
   },
   "outputs": [
    {
     "data": {
      "image/png": "[encoded data removed]",
      "text/plain": [
       "<matplotlib.figure.Figure at 0x111c97dd0>"
      ]
     },
     "metadata": {},
     "output_type": "display_data"
    }
   ],
   "source": [
    "images_and_labels = list(zip(digits.images, digits.target))\n",
    "for index, (image, label) in enumerate(images_and_labels[:4]):\n",
    "    plt.subplot(2, 4, index + 1)\n",
    "    plt.axis('off')\n",
    "    plt.imshow(image, cmap=plt.cm.gray_r, interpolation='nearest')\n",
    "    plt.title('Training: %i' % label)\n",
    "plt.show()"
   ]
  },
  {
   "cell_type": "markdown",
   "metadata": {},
   "source": [
    "* zip: https://docs.python.org/2/library/functions.html#zip\n",
    "* enumerate: https://docs.python.org/2/library/functions.html#enumerate"
   ]
  },
  {
   "cell_type": "code",
   "execution_count": 40,
   "metadata": {
    "collapsed": false
   },
   "outputs": [
    {
     "name": "stdout",
     "output_type": "stream",
     "text": [
      "[8 8 4 9 0 8 9 8 1 2]\n",
      "[8 5 5 9 5 5 5 5 1 2]\n"
     ]
    }
   ],
   "source": [
    "n_samples = len(digits.images)\n",
    "\n",
    "# 資料攤平:1797 x 8 x 8 -> 1797 x 64\n",
    "# 這裏的-1代表自動計算，相當於 (n_samples, 64)\n",
    "# data = digits.data\n",
    "data = digits.images.reshape((n_samples, -1))\n",
    "\n",
    "\n",
    "# 產生SVC分類器\n",
    "classifier = svm.SVC()\n",
    "\n",
    "# 用前半部份的資料來訓練\n",
    "classifier.fit(data[:n_samples / 2], digits.target[:n_samples / 2])\n",
    "\n",
    "expected = digits.target[n_samples / 2:]\n",
    "\n",
    "#利用後半部份的資料來測試分類器，共 899筆資料\n",
    "predicted = classifier.predict(data[n_samples / 2:])\n",
    "\n",
    "print(expected[:10])\n",
    "print(predicted[:10])"
   ]
  },
  {
   "cell_type": "code",
   "execution_count": 41,
   "metadata": {
    "collapsed": false
   },
   "outputs": [
    {
     "name": "stdout",
     "output_type": "stream",
     "text": [
      "Confusion matrix:\n",
      "[[38  0  0  0  0 50  0  0  0  0]\n",
      " [ 0 50  0  0  0 41  0  0  0  0]\n",
      " [ 0  0 29  0  0 57  0  0  0  0]\n",
      " [ 0  0  0 54  0 37  0  0  0  0]\n",
      " [ 0  0  0  0 27 65  0  0  0  0]\n",
      " [ 0  0  0  0  0 91  0  0  0  0]\n",
      " [ 0  0  0  0  0 58 33  0  0  0]\n",
      " [ 0  0  0  0  0 64  0 25  0  0]\n",
      " [ 0  0  0  0  0 87  0  0  1  0]\n",
      " [ 0  0  0  0  0 84  0  0  0  8]]\n"
     ]
    }
   ],
   "source": [
    "print(\"Confusion matrix:\\n%s\"\n",
    "    % metrics.confusion_matrix(expected, predicted))"
   ]
  },
  {
   "cell_type": "code",
   "execution_count": 42,
   "metadata": {
    "collapsed": true
   },
   "outputs": [],
   "source": [
    "def plot_confusion_matrix(cm, title='Confusion matrix', cmap=plt.cm.Blues):\n",
    "    import numpy as np\n",
    "    plt.imshow(cm, interpolation='nearest', cmap=cmap)\n",
    "    plt.title(title)\n",
    "    plt.colorbar()\n",
    "    tick_marks = np.arange(len(digits.target_names))\n",
    "    plt.xticks(tick_marks, digits.target_names, rotation=45)\n",
    "    plt.yticks(tick_marks, digits.target_names)\n",
    "    plt.tight_layout()\n",
    "    plt.ylabel('True label')\n",
    "    plt.xlabel('Predicted label')\n",
    "\n",
    "plt.figure()\n",
    "plot_confusion_matrix(metrics.confusion_matrix(expected, predicted))"
   ]
  },
  {
   "cell_type": "code",
   "execution_count": 43,
   "metadata": {
    "collapsed": false
   },
   "outputs": [
    {
     "name": "stdout",
     "output_type": "stream",
     "text": [
      "Classification report for classifier SVC(C=1.0, cache_size=200, class_weight=None, coef0=0.0,\n",
      "  decision_function_shape=None, degree=3, gamma='auto', kernel='rbf',\n",
      "  max_iter=-1, probability=False, random_state=None, shrinking=True,\n",
      "  tol=0.001, verbose=False):\n",
      "             precision    recall  f1-score   support\n",
      "\n",
      "          0       1.00      0.43      0.60        88\n",
      "          1       1.00      0.55      0.71        91\n",
      "          2       1.00      0.34      0.50        86\n",
      "          3       1.00      0.59      0.74        91\n",
      "          4       1.00      0.29      0.45        92\n",
      "          5       0.14      1.00      0.25        91\n",
      "          6       1.00      0.36      0.53        91\n",
      "          7       1.00      0.28      0.44        89\n",
      "          8       1.00      0.01      0.02        88\n",
      "          9       1.00      0.09      0.16        92\n",
      "\n",
      "avg / total       0.91      0.40      0.44       899\n",
      "\n",
      "\n"
     ]
    }
   ],
   "source": [
    "print(\"Classification report for classifier %s:\\n%s\\n\"\n",
    "    % (classifier, metrics.classification_report(expected, predicted)))"
   ]
  },
  {
   "cell_type": "code",
   "execution_count": 44,
   "metadata": {
    "collapsed": false
   },
   "outputs": [
    {
     "data": {
      "image/png": "[encoded data removed]",
      "text/plain": [
       "<matplotlib.figure.Figure at 0x1114f69d0>"
      ]
     },
     "metadata": {},
     "output_type": "display_data"
    }
   ],
   "source": [
    "images_and_predictions = list(\n",
    "                        zip(digits.images[n_samples / 2:], predicted))\n",
    "for index, (image, prediction) in enumerate(images_and_predictions[:4]):\n",
    "    plt.subplot(2, 4, index + 1)\n",
    "    plt.axis('off')\n",
    "    plt.imshow(image, cmap=plt.cm.gray_r, interpolation='nearest')\n",
    "    plt.title('Prediction: %i' % prediction)\n",
    "\n",
    "plt.show()"
   ]
  },
  {
   "cell_type": "markdown",
   "metadata": {},
   "source": [
    "延伸問題：\n",
    "1. SVM的參數如何調控\n",
    "2. 如何使用Cross Validation\n",
    "3. 導入external dataset(ex: http://yann.lecun.com/exdb/mnist/)\n",
    "4. Kaggle competition: https://www.kaggle.com/c/digit-recognizer"
   ]
  }
 ],
 "metadata": {
  "kernelspec": {
   "display_name": "Python 2",
   "language": "python",
   "name": "python2"
  },
  "language_info": {
   "codemirror_mode": {
    "name": "ipython",
    "version": 2
   },
   "file_extension": ".py",
   "mimetype": "text/x-python",
   "name": "python",
   "nbconvert_exporter": "python",
   "pygments_lexer": "ipython2",
   "version": "2.7.12"
  }
 },
 "nbformat": 4,
 "nbformat_minor": 2
}
